{
 "cells": [
  {
   "cell_type": "code",
   "execution_count": 1,
   "id": "5f7ff221-a159-453a-96c7-ebfa2201eebb",
   "metadata": {},
   "outputs": [],
   "source": [
    "import numpy as np\n"
   ]
  },
  {
   "cell_type": "markdown",
   "id": "772403bc-a3cb-4f00-8630-cb526d1e2bd8",
   "metadata": {},
   "source": [
    "1. Файл `minutes_n_ingredients.csv` содержит информацию об идентификаторе рецепта, времени его выполнения в минутах и количестве необходимых ингредиентов. Считайте данные из этого файла в виде массива `numpy` типа `int32`, используя `np.loadtxt`. Выведите на экран первые 5 строк массива."
   ]
  },
  {
   "cell_type": "code",
   "execution_count": 2,
   "id": "295019a1-d083-4395-b148-1700f927246c",
   "metadata": {},
   "outputs": [
    {
     "data": {
      "text/plain": [
       "array([[127244,     60,     16],\n",
       "       [ 23891,     25,      7],\n",
       "       [ 94746,     10,      6],\n",
       "       [ 67660,      5,      6],\n",
       "       [157911,     60,     14]])"
      ]
     },
     "execution_count": 2,
     "metadata": {},
     "output_type": "execute_result"
    }
   ],
   "source": [
    "data = np.loadtxt(r'J:\\pyfiles\\minutes_n_ingredients.csv', delimiter=',', skiprows=1, dtype=np.int32)\n",
    "data[:5]"
   ]
  },
  {
   "cell_type": "markdown",
   "id": "6dfb65a2-d777-4a6c-bbaf-d0aa706bc057",
   "metadata": {},
   "source": [
    "2. Вычислите среднее значение, минимум, максимум и медиану по каждому из столбцов, кроме первого."
   ]
  },
  {
   "cell_type": "code",
   "execution_count": 3,
   "id": "53211ba8-afd9-4ede-9bf0-1e678ad139bd",
   "metadata": {},
   "outputs": [
    {
     "name": "stdout",
     "output_type": "stream",
     "text": [
      "[2147483647         39]\n",
      "[0 1]\n",
      "[40.  9.]\n",
      "[2.16010017e+04 9.05528000e+00]\n"
     ]
    }
   ],
   "source": [
    "first_col_сut = data[:, 1:]\n",
    "max = np.max(first_col_сut, axis=0)\n",
    "min = np.min(first_col_сut, axis=0)\n",
    "median = np.median(first_col_сut, axis=0)\n",
    "mean = np.mean(first_col_сut, axis=0)\n",
    "print(max)\n",
    "print(min)\n",
    "print(median)\n",
    "print(mean)"
   ]
  },
  {
   "cell_type": "markdown",
   "id": "f058f20f-2f2a-4435-84ce-cc618e0fa06a",
   "metadata": {},
   "source": [
    "3. Ограничьте сверху значения продолжительности выполнения рецепта значением квантиля $q_{0.75}$. "
   ]
  },
  {
   "cell_type": "code",
   "execution_count": 4,
   "id": "8f0609ae-6706-4c5f-9cc7-4f141ce8a5b9",
   "metadata": {},
   "outputs": [
    {
     "data": {
      "text/plain": [
       "array([[127244,     60,     16],\n",
       "       [ 23891,     25,      7],\n",
       "       [ 94746,     10,      6],\n",
       "       [ 67660,      5,      6],\n",
       "       [157911,     60,     14]])"
      ]
     },
     "execution_count": 4,
     "metadata": {},
     "output_type": "execute_result"
    }
   ],
   "source": [
    "q_75 = np.quantile(data[:, 1], 0.75)\n",
    "data[:, 1] = np.clip(data[:, 1], 0, q_75)\n",
    "data[:5]"
   ]
  },
  {
   "cell_type": "markdown",
   "id": "a2a10902-38f6-4a2d-be4c-193180e1aa0b",
   "metadata": {},
   "source": [
    "4. Посчитайте, для скольких рецептов указана продолжительность, равная нулю. Замените для таких строк значение в данном столбце на 1."
   ]
  },
  {
   "cell_type": "code",
   "execution_count": 5,
   "id": "66c35e71-4928-4549-8d93-643d5a08fcd2",
   "metadata": {},
   "outputs": [
    {
     "name": "stdout",
     "output_type": "stream",
     "text": [
      "Продолжительность равна нулю для 479 рецептов.\n"
     ]
    }
   ],
   "source": [
    "print(f\"Продолжительность равна нулю для {(data[:, 1] == 0).sum()} рецептов.\")\n",
    "data[:, 1][data[:, 1] == 0] = 1"
   ]
  },
  {
   "cell_type": "markdown",
   "id": "ff4c3a7a-fc0d-4ff1-8f35-5ed20615c20d",
   "metadata": {},
   "source": [
    "5. Посчитайте, сколько уникальных рецептов находится в датасете."
   ]
  },
  {
   "cell_type": "code",
   "execution_count": 6,
   "id": "a00a5134-1acc-45f2-81e1-932c2ea8f1e1",
   "metadata": {},
   "outputs": [
    {
     "name": "stdout",
     "output_type": "stream",
     "text": [
      "В датасете находится 100000 уникальных рецептов.\n"
     ]
    }
   ],
   "source": [
    "print(f\"В датасете находится {len(np.unique(data[:, 0]))} уникальных рецептов.\")"
   ]
  },
  {
   "cell_type": "markdown",
   "id": "4f8cba52-7063-443a-a38e-17fbc02ff2ce",
   "metadata": {},
   "source": [
    "6. Сколько и каких различных значений кол-ва ингредиентов присутвует в рецептах из датасета?"
   ]
  },
  {
   "cell_type": "code",
   "execution_count": 7,
   "id": "65546960-b17a-4679-ae5f-57f37c49a9b2",
   "metadata": {},
   "outputs": [
    {
     "name": "stdout",
     "output_type": "stream",
     "text": [
      "В датасете присутствует 37 различных значений количества ингредиентов:\n",
      "Количество ингредиентов: [ 1  2  3  4  5  6  7  8  9 10 11 12 13 14 15 16 17 18 19 20 21 22 23 24\n",
      " 25 26 27 28 29 30 31 32 33 34 35 37 39]\n"
     ]
    }
   ],
   "source": [
    "unique_ing = np.unique(data[:, 2])\n",
    "unique_ing_len = len(unique_ing)\n",
    "\n",
    "print(f\"В датасете присутствует {unique_ing_len} различных значений количества ингредиентов:\")\n",
    "print(f\"Количество ингредиентов: {unique_ing}\")"
   ]
  },
  {
   "cell_type": "markdown",
   "id": "6b6fdf92-ccd3-47f3-9d2f-9e3667f010d2",
   "metadata": {},
   "source": [
    "7. Создайте версию массива, содержащую информацию только о рецептах, состоящих не более чем из 5 ингредиентов."
   ]
  },
  {
   "cell_type": "code",
   "execution_count": 8,
   "id": "6e9f4976-1dde-47a0-b580-b9512e5cacb0",
   "metadata": {},
   "outputs": [
    {
     "data": {
      "text/plain": [
       "array([[446597,     15,      5],\n",
       "       [204134,      5,      3],\n",
       "       [ 25623,      6,      4],\n",
       "       [484223,     18,      4],\n",
       "       [ 63150,     65,      4]])"
      ]
     },
     "execution_count": 8,
     "metadata": {},
     "output_type": "execute_result"
    }
   ],
   "source": [
    "data_up = data[data[:, 2] <= 5]\n",
    "data_up[:5]"
   ]
  },
  {
   "cell_type": "markdown",
   "id": "2355bc21-2df4-4239-ba08-f7e619f4a24f",
   "metadata": {},
   "source": [
    "8. Для каждого рецепта посчитайте, сколько в среднем ингредиентов приходится на одну минуту рецепта. Найдите максимальное значение этой величины для всего датасета"
   ]
  },
  {
   "cell_type": "code",
   "execution_count": 9,
   "id": "7d5eb601-9733-4bb8-80d4-5e28b32c7517",
   "metadata": {},
   "outputs": [
    {
     "name": "stdout",
     "output_type": "stream",
     "text": [
      "Среднее количество ингредиентов на одну минуту: [0.26666667 0.28       0.6        ... 0.23076923 0.8        0.21538462]\n",
      "Максимальное количество ингредиентов на одну минуту: 24.0\n"
     ]
    }
   ],
   "source": [
    "ing_per_minute = data[:, 2] / data[:, 1]\n",
    "max_ing_per_minute = np.max(ing_per_minute)\n",
    "print(f\"Среднее количество ингредиентов на одну минуту: {ing_per_minute}\")\n",
    "print(f\"Максимальное количество ингредиентов на одну минуту: {max_ing_per_minute}\")"
   ]
  },
  {
   "cell_type": "markdown",
   "id": "a7a6317f-a63b-4b79-9c1e-81e7a0445f89",
   "metadata": {},
   "source": [
    "9. Вычислите среднее количество ингредиентов для топ-100 рецептов с наибольшей продолжительностью"
   ]
  },
  {
   "cell_type": "code",
   "execution_count": 10,
   "id": "81b371d9-28e7-4bf4-9d3d-9300e8509618",
   "metadata": {},
   "outputs": [
    {
     "data": {
      "text/plain": [
       "9.96"
      ]
     },
     "execution_count": 10,
     "metadata": {},
     "output_type": "execute_result"
    }
   ],
   "source": [
    "sort_data = data[data[:, 1].argsort()[::-1]]\n",
    "top_100 = sort_data[:100]\n",
    "ing_top_100 = np.mean(top_100[:, 2])\n",
    "ing_top_100"
   ]
  },
  {
   "cell_type": "markdown",
   "id": "fcba07ae-fd62-4703-9190-b6a29e5212a0",
   "metadata": {},
   "source": [
    "10. Выберите случайным образом и выведите информацию о 10 различных рецептах"
   ]
  },
  {
   "cell_type": "code",
   "execution_count": 11,
   "id": "4584abff-b82f-4b7e-9187-3fbb2363ef60",
   "metadata": {},
   "outputs": [
    {
     "name": "stdout",
     "output_type": "stream",
     "text": [
      "[[110094     50     11]\n",
      " [ 54009     65     10]\n",
      " [286856     40     13]\n",
      " [305537     60      4]\n",
      " [  4546     25      5]\n",
      " [462526     45     12]\n",
      " [264448     65      9]\n",
      " [ 66105     35      5]\n",
      " [419685     35      9]\n",
      " [427586     50     11]]\n"
     ]
    }
   ],
   "source": [
    "random_data = np.random.choice(data.shape[0], size=10, replace=False)\n",
    "random_recipes = data[random_data]\n",
    "print(random_recipes)"
   ]
  },
  {
   "cell_type": "markdown",
   "id": "42fa2f43-5728-43b3-95ff-ace90790cb66",
   "metadata": {},
   "source": [
    "11. Выведите процент рецептов, кол-во ингредиентов в которых меньше среднего."
   ]
  },
  {
   "cell_type": "code",
   "execution_count": 12,
   "id": "3626d123-c27d-4a3b-97a9-3d3863931247",
   "metadata": {},
   "outputs": [
    {
     "name": "stdout",
     "output_type": "stream",
     "text": [
      "Процент рецептов, количество ингредиентов в которых меньше среднего: 58.80%\n"
     ]
    }
   ],
   "source": [
    "print(f\"Процент рецептов, количество ингредиентов в которых меньше среднего: {(len(data[data[:, 2] < np.mean(data[:, 2])]) / len(data)) * 100:.2f}%\")"
   ]
  },
  {
   "cell_type": "markdown",
   "id": "33d95361-3a3d-4823-b34d-61a234209805",
   "metadata": {},
   "source": [
    "12. Назовем \"простым\" такой рецепт, длительность выполнения которого не больше 20 минут и кол-во ингредиентов в котором не больше 5. Создайте версию датасета с дополнительным столбцом, значениями которого являются 1, если рецепт простой, и 0 в противном случае."
   ]
  },
  {
   "cell_type": "code",
   "execution_count": 13,
   "id": "392891ae-c7fa-4193-961f-254d866ab23a",
   "metadata": {},
   "outputs": [
    {
     "data": {
      "text/plain": [
       "array([[127244,     60,     16,      0],\n",
       "       [ 23891,     25,      7,      0],\n",
       "       [ 94746,     10,      6,      0],\n",
       "       ...,\n",
       "       [498432,     65,     15,      0],\n",
       "       [370915,      5,      4,      1],\n",
       "       [ 81993,     65,     14,      0]])"
      ]
     },
     "execution_count": 13,
     "metadata": {},
     "output_type": "execute_result"
    }
   ],
   "source": [
    "data_easy = np.column_stack((data, np.where((data[:, 1] <= 20) & (data[:, 2] <= 5), 1, 0)))\n",
    "data_easy"
   ]
  },
  {
   "cell_type": "markdown",
   "id": "ef31532b-bce6-4362-9df6-35705c36a4a2",
   "metadata": {},
   "source": [
    "13. Выведите процент \"простых\" рецептов в датасете"
   ]
  },
  {
   "cell_type": "code",
   "execution_count": 14,
   "id": "126b9274-2923-429d-908c-339a5d8a096f",
   "metadata": {},
   "outputs": [
    {
     "name": "stdout",
     "output_type": "stream",
     "text": [
      "Процент рецептов, количество ингредиентов в которых меньше среднего: 9.55%\n"
     ]
    }
   ],
   "source": [
    "print(f\"Процент рецептов, количество ингредиентов в которых меньше среднего: {(np.sum(data_easy[:,3]) / len(data)) * 100:.2f}%\")"
   ]
  },
  {
   "cell_type": "markdown",
   "id": "73d9f4da-097b-47f7-bc98-e8f4df916916",
   "metadata": {},
   "source": [
    "14. Разделим рецепты на группы по следующему правилу. Назовем рецепты короткими, если их продолжительность составляет менее 10 минут; стандартными, если их продолжительность составляет более 10, но менее 20 минут; и длинными, если их продолжительность составляет не менее 20 минут. Создайте трехмерный массив, где нулевая ось отвечает за номер группы (короткий, стандартный или длинный рецепт), первая ось - за сам рецепт и вторая ось - за характеристики рецепта. Выберите максимальное количество рецептов из каждой группы таким образом, чтобы было возможно сформировать трехмерный массив. Выведите форму полученного массива."
   ]
  },
  {
   "cell_type": "code",
   "execution_count": 15,
   "id": "04c4e7c7-978d-45a9-9e0d-950567cff195",
   "metadata": {},
   "outputs": [
    {
     "name": "stdout",
     "output_type": "stream",
     "text": [
      "7588 91349 79751\n"
     ]
    },
    {
     "data": {
      "text/plain": [
       "(3, 7588, 2)"
      ]
     },
     "execution_count": 15,
     "metadata": {},
     "output_type": "execute_result"
    }
   ],
   "source": [
    "first_col_сut = data[:, 1:]\n",
    "short_recipes = first_col_сut[first_col_сut[:, 0] < 10]\n",
    "standard_recipes = first_col_сut[(first_col_сut[:, 0] >= 10) & (first_col_сut[:, 1] < 20)]\n",
    "long_recipes = first_col_сut[first_col_сut[:, 0] >= 20]\n",
    "print(len(short_recipes), len(standard_recipes),len(long_recipes))\n",
    "new_array = np.zeros((3, len(short_recipes), 2), dtype=np.int32)\n",
    "new_array[0, :len(short_recipes), :] = short_recipes[:len(short_recipes), :]\n",
    "new_array[1, :len(standard_recipes), :] = standard_recipes[:len(short_recipes), :]\n",
    "new_array[2, :len(long_recipes), :] = long_recipes[:len(short_recipes), :]\n",
    "new_array.shape"
   ]
  }
 ],
 "metadata": {
  "kernelspec": {
   "display_name": "Python 3 (ipykernel)",
   "language": "python",
   "name": "python3"
  },
  "language_info": {
   "codemirror_mode": {
    "name": "ipython",
    "version": 3
   },
   "file_extension": ".py",
   "mimetype": "text/x-python",
   "name": "python",
   "nbconvert_exporter": "python",
   "pygments_lexer": "ipython3",
   "version": "3.11.5"
  }
 },
 "nbformat": 4,
 "nbformat_minor": 5
}
